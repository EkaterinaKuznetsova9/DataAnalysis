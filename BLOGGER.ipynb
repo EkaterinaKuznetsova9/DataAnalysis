{
 "cells": [
  {
   "cell_type": "markdown",
   "metadata": {},
   "source": [
    "Лабораторная Кузнецовой Екатерины\n",
    "\n",
    "Данные: https://archive.ics.uci.edu/ml/datasets/BLOGGER \n",
    "\n",
    "Был проведен опрос среди блогеров, затем полученные данные анализируются вместе с их веб-страницами. В качестве вопросов рассматривались следующие параметры: возраст, образование, политические установки, тема блога, и тип блогера в интернете, влияние неэффективных СМИ на тенденцию и др. БД уже обработана от шумов и нерелевантных данных.\n",
    "Окончательные признаки: образование, политические тенденции, темы, местные СМИ (LMT) и локальное, политическое и социальное пространство (LPS). \n",
    "Блогеры разделяются на  2 класса: профессиональные и сезонные (временные).\n",
    "Профессиональные блогеры (Pro Bloggers, PB) -это те, кто принимает блог как эффективные цифровые средства массовой информации, они ведут свой блог какое-то непрерывное время. Сезонные (временные) блогеры - это не профессионалы, они следят за блогом лишь в дискретные промежутки времени. \n",
    "\n",
    "Задача: необходимо классифицировать блогеров на профессиональных и сезонных. "
   ]
  },
  {
   "cell_type": "code",
   "execution_count": 2,
   "metadata": {},
   "outputs": [],
   "source": [
    "#подключаем библиотеки\n",
    "import numpy as np # большие многомерные массивы и матрицы, мат. функции для операций с этими данными\n",
    "import matplotlib.pyplot as plt # визуализация данных 2D-графикой (3D тоже поддерживается)\n",
    "import pandas as pd # анализ и обработка данных (таблицы DataFrame)\n",
    "%matplotlib inline \n",
    "#from sklearn import preprocessing # алгоритмы машинного обучения\n",
    "#from sklearn.preprocessing import scale\n",
    "from sklearn.model_selection import train_test_split"
   ]
  },
  {
   "cell_type": "code",
   "execution_count": 3,
   "metadata": {},
   "outputs": [],
   "source": [
    "#считывание файла\n",
    "\n",
    "data = pd.read_csv('kohkiloyeh.csv', engine = 'python',delimiter=',')"
   ]
  },
  {
   "cell_type": "code",
   "execution_count": 4,
   "metadata": {},
   "outputs": [
    {
     "data": {
      "text/plain": [
       "(100, 6)"
      ]
     },
     "execution_count": 4,
     "metadata": {},
     "output_type": "execute_result"
    }
   ],
   "source": [
    "data.shape"
   ]
  },
  {
   "cell_type": "code",
   "execution_count": 5,
   "metadata": {},
   "outputs": [
    {
     "data": {
      "text/html": [
       "<div>\n",
       "<style scoped>\n",
       "    .dataframe tbody tr th:only-of-type {\n",
       "        vertical-align: middle;\n",
       "    }\n",
       "\n",
       "    .dataframe tbody tr th {\n",
       "        vertical-align: top;\n",
       "    }\n",
       "\n",
       "    .dataframe thead th {\n",
       "        text-align: right;\n",
       "    }\n",
       "</style>\n",
       "<table border=\"1\" class=\"dataframe\">\n",
       "  <thead>\n",
       "    <tr style=\"text-align: right;\">\n",
       "      <th></th>\n",
       "      <th>Degree</th>\n",
       "      <th>caprice</th>\n",
       "      <th>topic</th>\n",
       "      <th>lmt</th>\n",
       "      <th>lpss</th>\n",
       "      <th>pb</th>\n",
       "    </tr>\n",
       "  </thead>\n",
       "  <tbody>\n",
       "    <tr>\n",
       "      <th>0</th>\n",
       "      <td>high</td>\n",
       "      <td>left</td>\n",
       "      <td>impression</td>\n",
       "      <td>yes</td>\n",
       "      <td>yes</td>\n",
       "      <td>yes</td>\n",
       "    </tr>\n",
       "    <tr>\n",
       "      <th>1</th>\n",
       "      <td>high</td>\n",
       "      <td>left</td>\n",
       "      <td>political</td>\n",
       "      <td>yes</td>\n",
       "      <td>yes</td>\n",
       "      <td>yes</td>\n",
       "    </tr>\n",
       "    <tr>\n",
       "      <th>2</th>\n",
       "      <td>medium</td>\n",
       "      <td>middle</td>\n",
       "      <td>tourism</td>\n",
       "      <td>yes</td>\n",
       "      <td>yes</td>\n",
       "      <td>yes</td>\n",
       "    </tr>\n",
       "    <tr>\n",
       "      <th>3</th>\n",
       "      <td>high</td>\n",
       "      <td>left</td>\n",
       "      <td>political</td>\n",
       "      <td>yes</td>\n",
       "      <td>yes</td>\n",
       "      <td>yes</td>\n",
       "    </tr>\n",
       "    <tr>\n",
       "      <th>4</th>\n",
       "      <td>medium</td>\n",
       "      <td>middle</td>\n",
       "      <td>news</td>\n",
       "      <td>yes</td>\n",
       "      <td>yes</td>\n",
       "      <td>yes</td>\n",
       "    </tr>\n",
       "  </tbody>\n",
       "</table>\n",
       "</div>"
      ],
      "text/plain": [
       "   Degree caprice       topic  lmt lpss   pb\n",
       "0    high    left  impression  yes  yes  yes\n",
       "1    high    left   political  yes  yes  yes\n",
       "2  medium  middle     tourism  yes  yes  yes\n",
       "3    high    left   political  yes  yes  yes\n",
       "4  medium  middle        news  yes  yes  yes"
      ]
     },
     "execution_count": 5,
     "metadata": {},
     "output_type": "execute_result"
    }
   ],
   "source": [
    "data.head()"
   ]
  },
  {
   "cell_type": "code",
   "execution_count": 6,
   "metadata": {},
   "outputs": [
    {
     "data": {
      "text/html": [
       "<div>\n",
       "<style scoped>\n",
       "    .dataframe tbody tr th:only-of-type {\n",
       "        vertical-align: middle;\n",
       "    }\n",
       "\n",
       "    .dataframe tbody tr th {\n",
       "        vertical-align: top;\n",
       "    }\n",
       "\n",
       "    .dataframe thead th {\n",
       "        text-align: right;\n",
       "    }\n",
       "</style>\n",
       "<table border=\"1\" class=\"dataframe\">\n",
       "  <thead>\n",
       "    <tr style=\"text-align: right;\">\n",
       "      <th></th>\n",
       "      <th>Degree</th>\n",
       "      <th>caprice</th>\n",
       "      <th>topic</th>\n",
       "      <th>lmt</th>\n",
       "      <th>lpss</th>\n",
       "      <th>pb</th>\n",
       "    </tr>\n",
       "  </thead>\n",
       "  <tbody>\n",
       "    <tr>\n",
       "      <th>95</th>\n",
       "      <td>medium</td>\n",
       "      <td>middle</td>\n",
       "      <td>impression</td>\n",
       "      <td>yes</td>\n",
       "      <td>yes</td>\n",
       "      <td>yes</td>\n",
       "    </tr>\n",
       "    <tr>\n",
       "      <th>96</th>\n",
       "      <td>low</td>\n",
       "      <td>middle</td>\n",
       "      <td>impression</td>\n",
       "      <td>yes</td>\n",
       "      <td>no</td>\n",
       "      <td>no</td>\n",
       "    </tr>\n",
       "    <tr>\n",
       "      <th>97</th>\n",
       "      <td>low</td>\n",
       "      <td>right</td>\n",
       "      <td>impression</td>\n",
       "      <td>yes</td>\n",
       "      <td>no</td>\n",
       "      <td>no</td>\n",
       "    </tr>\n",
       "    <tr>\n",
       "      <th>98</th>\n",
       "      <td>medium</td>\n",
       "      <td>right</td>\n",
       "      <td>news</td>\n",
       "      <td>yes</td>\n",
       "      <td>yes</td>\n",
       "      <td>no</td>\n",
       "    </tr>\n",
       "    <tr>\n",
       "      <th>99</th>\n",
       "      <td>medium</td>\n",
       "      <td>left</td>\n",
       "      <td>impression</td>\n",
       "      <td>yes</td>\n",
       "      <td>yes</td>\n",
       "      <td>yes</td>\n",
       "    </tr>\n",
       "  </tbody>\n",
       "</table>\n",
       "</div>"
      ],
      "text/plain": [
       "    Degree caprice       topic  lmt lpss   pb\n",
       "95  medium  middle  impression  yes  yes  yes\n",
       "96     low  middle  impression  yes   no   no\n",
       "97     low   right  impression  yes   no   no\n",
       "98  medium   right        news  yes  yes   no\n",
       "99  medium    left  impression  yes  yes  yes"
      ]
     },
     "execution_count": 6,
     "metadata": {},
     "output_type": "execute_result"
    }
   ],
   "source": [
    "data.tail()"
   ]
  },
  {
   "cell_type": "markdown",
   "metadata": {},
   "source": [
    "Attribute Information:\n",
    "\n",
    "* Degree - education\n",
    "* caprice - political caprice\n",
    "* topic - topics\n",
    "* lmt -  local media turnover (LMT)\n",
    "* lpss - local, political and social space (LPSS)\n",
    "* pb - professional bloggers\n"
   ]
  },
  {
   "cell_type": "code",
   "execution_count": 7,
   "metadata": {},
   "outputs": [
    {
     "data": {
      "text/plain": [
       "'high'"
      ]
     },
     "execution_count": 7,
     "metadata": {},
     "output_type": "execute_result"
    }
   ],
   "source": [
    "data.at[0, 'Degree']"
   ]
  },
  {
   "cell_type": "code",
   "execution_count": 8,
   "metadata": {},
   "outputs": [
    {
     "data": {
      "text/plain": [
       "0       high\n",
       "1       high\n",
       "2     medium\n",
       "3       high\n",
       "4     medium\n",
       "5     medium\n",
       "6       high\n",
       "7       high\n",
       "8       high\n",
       "9     medium\n",
       "10      high\n",
       "11    medium\n",
       "12      high\n",
       "13       low\n",
       "14      high\n",
       "15    medium\n",
       "16    medium\n",
       "17      high\n",
       "18    medium\n",
       "19      high\n",
       "20      high\n",
       "21    medium\n",
       "22      high\n",
       "23       low\n",
       "24      high\n",
       "25      high\n",
       "26       low\n",
       "27      high\n",
       "28      high\n",
       "29    medium\n",
       "       ...  \n",
       "70    medium\n",
       "71    medium\n",
       "72    medium\n",
       "73       low\n",
       "74      high\n",
       "75      high\n",
       "76       low\n",
       "77      high\n",
       "78      high\n",
       "79    medium\n",
       "80      high\n",
       "81       low\n",
       "82    medium\n",
       "83       low\n",
       "84      high\n",
       "85    medium\n",
       "86    medium\n",
       "87    medium\n",
       "88    medium\n",
       "89    medium\n",
       "90      high\n",
       "91    medium\n",
       "92      high\n",
       "93    medium\n",
       "94    medium\n",
       "95    medium\n",
       "96       low\n",
       "97       low\n",
       "98    medium\n",
       "99    medium\n",
       "Name: Degree, Length: 100, dtype: object"
      ]
     },
     "execution_count": 8,
     "metadata": {},
     "output_type": "execute_result"
    }
   ],
   "source": [
    "data['Degree']"
   ]
  },
  {
   "cell_type": "code",
   "execution_count": 9,
   "metadata": {},
   "outputs": [
    {
     "name": "stdout",
     "output_type": "stream",
     "text": [
      "['Degree', 'caprice', 'topic', 'lmt', 'lpss', 'pb']\n",
      "[]\n"
     ]
    }
   ],
   "source": [
    "data.describe(include = [object]) \n",
    "data_describe = data.describe(include = [object])\n",
    "categorical_columns = [c for c in data.columns if data[c].dtype.name == 'object'] \n",
    "numerical_columns = [c for c in data.columns if data[c].dtype.name != 'object'] \n",
    "for c in categorical_columns:\n",
    "    data[c] = data[c].fillna(data_describe[c]['top'])\n",
    "\n",
    "print(categorical_columns) \n",
    "print(numerical_columns) \n",
    "\n"
   ]
  },
  {
   "cell_type": "code",
   "execution_count": 10,
   "metadata": {},
   "outputs": [
    {
     "name": "stdout",
     "output_type": "stream",
     "text": [
      "['lmt', 'lpss', 'pb'] ['Degree', 'caprice', 'topic']\n"
     ]
    }
   ],
   "source": [
    "binary_columns    = [c for c in categorical_columns if data_describe[c]['unique'] == 2]\n",
    "nonbinary_columns = [c for c in categorical_columns if data_describe[c]['unique'] > 2]\n",
    "print(binary_columns, nonbinary_columns)\n"
   ]
  },
  {
   "cell_type": "code",
   "execution_count": 11,
   "metadata": {},
   "outputs": [
    {
     "data": {
      "text/plain": [
       "array(['impression', 'political', 'tourism', 'news', 'scientific'],\n",
       "      dtype=object)"
      ]
     },
     "execution_count": 11,
     "metadata": {},
     "output_type": "execute_result"
    }
   ],
   "source": [
    "#обработка бинарных признаков\n",
    "\n",
    "data.at[data['lmt'] == 'yes', 'lmt'] = 1\n",
    "data.at[data['lmt'] == 'no', 'lmt'] = 0\n",
    "data.at[data['lpss'] == 'yes', 'lpss'] = 1\n",
    "data.at[data['lpss'] == 'no', 'lpss'] = 0\n",
    "data.at[data['pb'] == 'yes', 'pb'] = 1\n",
    "data.at[data['pb'] == 'no', 'pb'] = 0\n",
    "\n",
    "#обработка небинарных признаков, векторизация\n",
    "\n",
    "data['Degree'].unique()\n",
    "\n",
    "data['caprice'].unique()\n",
    "\n",
    "data['topic'].unique()"
   ]
  },
  {
   "cell_type": "code",
   "execution_count": 12,
   "metadata": {},
   "outputs": [
    {
     "name": "stdout",
     "output_type": "stream",
     "text": [
      "Index(['Degree_high', 'Degree_low', 'Degree_medium', 'caprice_left',\n",
      "       'caprice_middle', 'caprice_right', 'topic_impression', 'topic_news',\n",
      "       'topic_political', 'topic_scientific', 'topic_tourism'],\n",
      "      dtype='object')\n"
     ]
    }
   ],
   "source": [
    "data_nonbinary = pd.get_dummies(data[nonbinary_columns])\n",
    "print(data_nonbinary.columns)"
   ]
  },
  {
   "cell_type": "code",
   "execution_count": 13,
   "metadata": {},
   "outputs": [
    {
     "data": {
      "text/html": [
       "<div>\n",
       "<style scoped>\n",
       "    .dataframe tbody tr th:only-of-type {\n",
       "        vertical-align: middle;\n",
       "    }\n",
       "\n",
       "    .dataframe tbody tr th {\n",
       "        vertical-align: top;\n",
       "    }\n",
       "\n",
       "    .dataframe thead th {\n",
       "        text-align: right;\n",
       "    }\n",
       "</style>\n",
       "<table border=\"1\" class=\"dataframe\">\n",
       "  <thead>\n",
       "    <tr style=\"text-align: right;\">\n",
       "      <th></th>\n",
       "      <th>Degree_high</th>\n",
       "      <th>Degree_low</th>\n",
       "      <th>Degree_medium</th>\n",
       "      <th>caprice_left</th>\n",
       "      <th>caprice_middle</th>\n",
       "      <th>caprice_right</th>\n",
       "      <th>topic_impression</th>\n",
       "      <th>topic_news</th>\n",
       "      <th>topic_political</th>\n",
       "      <th>topic_scientific</th>\n",
       "      <th>topic_tourism</th>\n",
       "    </tr>\n",
       "  </thead>\n",
       "  <tbody>\n",
       "    <tr>\n",
       "      <th>0</th>\n",
       "      <td>1</td>\n",
       "      <td>0</td>\n",
       "      <td>0</td>\n",
       "      <td>1</td>\n",
       "      <td>0</td>\n",
       "      <td>0</td>\n",
       "      <td>1</td>\n",
       "      <td>0</td>\n",
       "      <td>0</td>\n",
       "      <td>0</td>\n",
       "      <td>0</td>\n",
       "    </tr>\n",
       "    <tr>\n",
       "      <th>1</th>\n",
       "      <td>1</td>\n",
       "      <td>0</td>\n",
       "      <td>0</td>\n",
       "      <td>1</td>\n",
       "      <td>0</td>\n",
       "      <td>0</td>\n",
       "      <td>0</td>\n",
       "      <td>0</td>\n",
       "      <td>1</td>\n",
       "      <td>0</td>\n",
       "      <td>0</td>\n",
       "    </tr>\n",
       "    <tr>\n",
       "      <th>2</th>\n",
       "      <td>0</td>\n",
       "      <td>0</td>\n",
       "      <td>1</td>\n",
       "      <td>0</td>\n",
       "      <td>1</td>\n",
       "      <td>0</td>\n",
       "      <td>0</td>\n",
       "      <td>0</td>\n",
       "      <td>0</td>\n",
       "      <td>0</td>\n",
       "      <td>1</td>\n",
       "    </tr>\n",
       "    <tr>\n",
       "      <th>3</th>\n",
       "      <td>1</td>\n",
       "      <td>0</td>\n",
       "      <td>0</td>\n",
       "      <td>1</td>\n",
       "      <td>0</td>\n",
       "      <td>0</td>\n",
       "      <td>0</td>\n",
       "      <td>0</td>\n",
       "      <td>1</td>\n",
       "      <td>0</td>\n",
       "      <td>0</td>\n",
       "    </tr>\n",
       "    <tr>\n",
       "      <th>4</th>\n",
       "      <td>0</td>\n",
       "      <td>0</td>\n",
       "      <td>1</td>\n",
       "      <td>0</td>\n",
       "      <td>1</td>\n",
       "      <td>0</td>\n",
       "      <td>0</td>\n",
       "      <td>1</td>\n",
       "      <td>0</td>\n",
       "      <td>0</td>\n",
       "      <td>0</td>\n",
       "    </tr>\n",
       "  </tbody>\n",
       "</table>\n",
       "</div>"
      ],
      "text/plain": [
       "   Degree_high  Degree_low  Degree_medium  caprice_left  caprice_middle  \\\n",
       "0            1           0              0             1               0   \n",
       "1            1           0              0             1               0   \n",
       "2            0           0              1             0               1   \n",
       "3            1           0              0             1               0   \n",
       "4            0           0              1             0               1   \n",
       "\n",
       "   caprice_right  topic_impression  topic_news  topic_political  \\\n",
       "0              0                 1           0                0   \n",
       "1              0                 0           0                1   \n",
       "2              0                 0           0                0   \n",
       "3              0                 0           0                1   \n",
       "4              0                 0           1                0   \n",
       "\n",
       "   topic_scientific  topic_tourism  \n",
       "0                 0              0  \n",
       "1                 0              0  \n",
       "2                 0              1  \n",
       "3                 0              0  \n",
       "4                 0              0  "
      ]
     },
     "execution_count": 13,
     "metadata": {},
     "output_type": "execute_result"
    }
   ],
   "source": [
    "data_nonbinary.head()"
   ]
  },
  {
   "cell_type": "code",
   "execution_count": 14,
   "metadata": {},
   "outputs": [
    {
     "name": "stdout",
     "output_type": "stream",
     "text": [
      "(100, 14)\n"
     ]
    }
   ],
   "source": [
    "#соединяем всё в одну таблицу\n",
    "data_numerical = data[numerical_columns]\n",
    "data = pd.concat((data_numerical, data_nonbinary, data[binary_columns]), axis = 1)\n",
    "print(data.shape)\n",
    "\n"
   ]
  },
  {
   "cell_type": "code",
   "execution_count": 15,
   "metadata": {},
   "outputs": [
    {
     "data": {
      "text/html": [
       "<div>\n",
       "<style scoped>\n",
       "    .dataframe tbody tr th:only-of-type {\n",
       "        vertical-align: middle;\n",
       "    }\n",
       "\n",
       "    .dataframe tbody tr th {\n",
       "        vertical-align: top;\n",
       "    }\n",
       "\n",
       "    .dataframe thead th {\n",
       "        text-align: right;\n",
       "    }\n",
       "</style>\n",
       "<table border=\"1\" class=\"dataframe\">\n",
       "  <thead>\n",
       "    <tr style=\"text-align: right;\">\n",
       "      <th></th>\n",
       "      <th>Degree_high</th>\n",
       "      <th>Degree_low</th>\n",
       "      <th>Degree_medium</th>\n",
       "      <th>caprice_left</th>\n",
       "      <th>caprice_middle</th>\n",
       "      <th>caprice_right</th>\n",
       "      <th>topic_impression</th>\n",
       "      <th>topic_news</th>\n",
       "      <th>topic_political</th>\n",
       "      <th>topic_scientific</th>\n",
       "      <th>topic_tourism</th>\n",
       "      <th>lmt</th>\n",
       "      <th>lpss</th>\n",
       "      <th>pb</th>\n",
       "    </tr>\n",
       "  </thead>\n",
       "  <tbody>\n",
       "    <tr>\n",
       "      <th>0</th>\n",
       "      <td>1</td>\n",
       "      <td>0</td>\n",
       "      <td>0</td>\n",
       "      <td>1</td>\n",
       "      <td>0</td>\n",
       "      <td>0</td>\n",
       "      <td>1</td>\n",
       "      <td>0</td>\n",
       "      <td>0</td>\n",
       "      <td>0</td>\n",
       "      <td>0</td>\n",
       "      <td>1</td>\n",
       "      <td>1</td>\n",
       "      <td>1</td>\n",
       "    </tr>\n",
       "    <tr>\n",
       "      <th>1</th>\n",
       "      <td>1</td>\n",
       "      <td>0</td>\n",
       "      <td>0</td>\n",
       "      <td>1</td>\n",
       "      <td>0</td>\n",
       "      <td>0</td>\n",
       "      <td>0</td>\n",
       "      <td>0</td>\n",
       "      <td>1</td>\n",
       "      <td>0</td>\n",
       "      <td>0</td>\n",
       "      <td>1</td>\n",
       "      <td>1</td>\n",
       "      <td>1</td>\n",
       "    </tr>\n",
       "    <tr>\n",
       "      <th>2</th>\n",
       "      <td>0</td>\n",
       "      <td>0</td>\n",
       "      <td>1</td>\n",
       "      <td>0</td>\n",
       "      <td>1</td>\n",
       "      <td>0</td>\n",
       "      <td>0</td>\n",
       "      <td>0</td>\n",
       "      <td>0</td>\n",
       "      <td>0</td>\n",
       "      <td>1</td>\n",
       "      <td>1</td>\n",
       "      <td>1</td>\n",
       "      <td>1</td>\n",
       "    </tr>\n",
       "    <tr>\n",
       "      <th>3</th>\n",
       "      <td>1</td>\n",
       "      <td>0</td>\n",
       "      <td>0</td>\n",
       "      <td>1</td>\n",
       "      <td>0</td>\n",
       "      <td>0</td>\n",
       "      <td>0</td>\n",
       "      <td>0</td>\n",
       "      <td>1</td>\n",
       "      <td>0</td>\n",
       "      <td>0</td>\n",
       "      <td>1</td>\n",
       "      <td>1</td>\n",
       "      <td>1</td>\n",
       "    </tr>\n",
       "    <tr>\n",
       "      <th>4</th>\n",
       "      <td>0</td>\n",
       "      <td>0</td>\n",
       "      <td>1</td>\n",
       "      <td>0</td>\n",
       "      <td>1</td>\n",
       "      <td>0</td>\n",
       "      <td>0</td>\n",
       "      <td>1</td>\n",
       "      <td>0</td>\n",
       "      <td>0</td>\n",
       "      <td>0</td>\n",
       "      <td>1</td>\n",
       "      <td>1</td>\n",
       "      <td>1</td>\n",
       "    </tr>\n",
       "  </tbody>\n",
       "</table>\n",
       "</div>"
      ],
      "text/plain": [
       "   Degree_high  Degree_low  Degree_medium  caprice_left  caprice_middle  \\\n",
       "0            1           0              0             1               0   \n",
       "1            1           0              0             1               0   \n",
       "2            0           0              1             0               1   \n",
       "3            1           0              0             1               0   \n",
       "4            0           0              1             0               1   \n",
       "\n",
       "   caprice_right  topic_impression  topic_news  topic_political  \\\n",
       "0              0                 1           0                0   \n",
       "1              0                 0           0                1   \n",
       "2              0                 0           0                0   \n",
       "3              0                 0           0                1   \n",
       "4              0                 0           1                0   \n",
       "\n",
       "   topic_scientific  topic_tourism lmt lpss pb  \n",
       "0                 0              0   1    1  1  \n",
       "1                 0              0   1    1  1  \n",
       "2                 0              1   1    1  1  \n",
       "3                 0              0   1    1  1  \n",
       "4                 0              0   1    1  1  "
      ]
     },
     "execution_count": 15,
     "metadata": {},
     "output_type": "execute_result"
    }
   ],
   "source": [
    "data.head()\n"
   ]
  },
  {
   "cell_type": "code",
   "execution_count": 16,
   "metadata": {},
   "outputs": [
    {
     "data": {
      "text/html": [
       "<div>\n",
       "<style scoped>\n",
       "    .dataframe tbody tr th:only-of-type {\n",
       "        vertical-align: middle;\n",
       "    }\n",
       "\n",
       "    .dataframe tbody tr th {\n",
       "        vertical-align: top;\n",
       "    }\n",
       "\n",
       "    .dataframe thead th {\n",
       "        text-align: right;\n",
       "    }\n",
       "</style>\n",
       "<table border=\"1\" class=\"dataframe\">\n",
       "  <thead>\n",
       "    <tr style=\"text-align: right;\">\n",
       "      <th></th>\n",
       "      <th>Degree_high</th>\n",
       "      <th>Degree_low</th>\n",
       "      <th>Degree_medium</th>\n",
       "      <th>caprice_left</th>\n",
       "      <th>caprice_middle</th>\n",
       "      <th>caprice_right</th>\n",
       "      <th>topic_impression</th>\n",
       "      <th>topic_news</th>\n",
       "      <th>topic_political</th>\n",
       "      <th>topic_scientific</th>\n",
       "      <th>topic_tourism</th>\n",
       "    </tr>\n",
       "  </thead>\n",
       "  <tbody>\n",
       "    <tr>\n",
       "      <th>Degree_high</th>\n",
       "      <td>1.000000</td>\n",
       "      <td>-0.322613</td>\n",
       "      <td>-0.752971</td>\n",
       "      <td>0.193697</td>\n",
       "      <td>-0.322613</td>\n",
       "      <td>0.032028</td>\n",
       "      <td>-0.113293</td>\n",
       "      <td>-0.282736</td>\n",
       "      <td>0.616828</td>\n",
       "      <td>-0.219369</td>\n",
       "      <td>-0.221059</td>\n",
       "    </tr>\n",
       "    <tr>\n",
       "      <th>Degree_low</th>\n",
       "      <td>-0.322613</td>\n",
       "      <td>1.000000</td>\n",
       "      <td>-0.379949</td>\n",
       "      <td>-0.189207</td>\n",
       "      <td>0.003322</td>\n",
       "      <td>0.197115</td>\n",
       "      <td>0.178147</td>\n",
       "      <td>-0.048485</td>\n",
       "      <td>-0.175224</td>\n",
       "      <td>0.115212</td>\n",
       "      <td>-0.008071</td>\n",
       "    </tr>\n",
       "    <tr>\n",
       "      <th>Degree_medium</th>\n",
       "      <td>-0.752971</td>\n",
       "      <td>-0.379949</td>\n",
       "      <td>1.000000</td>\n",
       "      <td>-0.057750</td>\n",
       "      <td>0.312967</td>\n",
       "      <td>-0.168339</td>\n",
       "      <td>-0.013136</td>\n",
       "      <td>0.310015</td>\n",
       "      <td>-0.480981</td>\n",
       "      <td>0.134282</td>\n",
       "      <td>0.221644</td>\n",
       "    </tr>\n",
       "    <tr>\n",
       "      <th>caprice_left</th>\n",
       "      <td>0.193697</td>\n",
       "      <td>-0.189207</td>\n",
       "      <td>-0.057750</td>\n",
       "      <td>1.000000</td>\n",
       "      <td>-0.419948</td>\n",
       "      <td>-0.747048</td>\n",
       "      <td>0.024371</td>\n",
       "      <td>-0.095922</td>\n",
       "      <td>0.117502</td>\n",
       "      <td>0.028242</td>\n",
       "      <td>-0.100901</td>\n",
       "    </tr>\n",
       "    <tr>\n",
       "      <th>caprice_middle</th>\n",
       "      <td>-0.322613</td>\n",
       "      <td>0.003322</td>\n",
       "      <td>0.312967</td>\n",
       "      <td>-0.419948</td>\n",
       "      <td>1.000000</td>\n",
       "      <td>-0.289589</td>\n",
       "      <td>0.178147</td>\n",
       "      <td>0.171903</td>\n",
       "      <td>-0.296068</td>\n",
       "      <td>0.002259</td>\n",
       "      <td>-0.008071</td>\n",
       "    </tr>\n",
       "    <tr>\n",
       "      <th>caprice_right</th>\n",
       "      <td>0.032028</td>\n",
       "      <td>0.197115</td>\n",
       "      <td>-0.168339</td>\n",
       "      <td>-0.747048</td>\n",
       "      <td>-0.289589</td>\n",
       "      <td>1.000000</td>\n",
       "      <td>-0.156194</td>\n",
       "      <td>-0.024753</td>\n",
       "      <td>0.092943</td>\n",
       "      <td>-0.031440</td>\n",
       "      <td>0.112328</td>\n",
       "    </tr>\n",
       "    <tr>\n",
       "      <th>topic_impression</th>\n",
       "      <td>-0.113293</td>\n",
       "      <td>0.178147</td>\n",
       "      <td>-0.013136</td>\n",
       "      <td>0.024371</td>\n",
       "      <td>0.178147</td>\n",
       "      <td>-0.156194</td>\n",
       "      <td>1.000000</td>\n",
       "      <td>-0.272166</td>\n",
       "      <td>-0.412360</td>\n",
       "      <td>-0.154172</td>\n",
       "      <td>-0.236067</td>\n",
       "    </tr>\n",
       "    <tr>\n",
       "      <th>topic_news</th>\n",
       "      <td>-0.282736</td>\n",
       "      <td>-0.048485</td>\n",
       "      <td>0.310015</td>\n",
       "      <td>-0.095922</td>\n",
       "      <td>0.171903</td>\n",
       "      <td>-0.024753</td>\n",
       "      <td>-0.272166</td>\n",
       "      <td>1.000000</td>\n",
       "      <td>-0.355395</td>\n",
       "      <td>-0.132875</td>\n",
       "      <td>-0.203456</td>\n",
       "    </tr>\n",
       "    <tr>\n",
       "      <th>topic_political</th>\n",
       "      <td>0.616828</td>\n",
       "      <td>-0.175224</td>\n",
       "      <td>-0.480981</td>\n",
       "      <td>0.117502</td>\n",
       "      <td>-0.296068</td>\n",
       "      <td>0.092943</td>\n",
       "      <td>-0.412360</td>\n",
       "      <td>-0.355395</td>\n",
       "      <td>1.000000</td>\n",
       "      <td>-0.201319</td>\n",
       "      <td>-0.308257</td>\n",
       "    </tr>\n",
       "    <tr>\n",
       "      <th>topic_scientific</th>\n",
       "      <td>-0.219369</td>\n",
       "      <td>0.115212</td>\n",
       "      <td>0.134282</td>\n",
       "      <td>0.028242</td>\n",
       "      <td>0.002259</td>\n",
       "      <td>-0.031440</td>\n",
       "      <td>-0.154172</td>\n",
       "      <td>-0.132875</td>\n",
       "      <td>-0.201319</td>\n",
       "      <td>1.000000</td>\n",
       "      <td>-0.115251</td>\n",
       "    </tr>\n",
       "    <tr>\n",
       "      <th>topic_tourism</th>\n",
       "      <td>-0.221059</td>\n",
       "      <td>-0.008071</td>\n",
       "      <td>0.221644</td>\n",
       "      <td>-0.100901</td>\n",
       "      <td>-0.008071</td>\n",
       "      <td>0.112328</td>\n",
       "      <td>-0.236067</td>\n",
       "      <td>-0.203456</td>\n",
       "      <td>-0.308257</td>\n",
       "      <td>-0.115251</td>\n",
       "      <td>1.000000</td>\n",
       "    </tr>\n",
       "  </tbody>\n",
       "</table>\n",
       "</div>"
      ],
      "text/plain": [
       "                  Degree_high  Degree_low  Degree_medium  caprice_left  \\\n",
       "Degree_high          1.000000   -0.322613      -0.752971      0.193697   \n",
       "Degree_low          -0.322613    1.000000      -0.379949     -0.189207   \n",
       "Degree_medium       -0.752971   -0.379949       1.000000     -0.057750   \n",
       "caprice_left         0.193697   -0.189207      -0.057750      1.000000   \n",
       "caprice_middle      -0.322613    0.003322       0.312967     -0.419948   \n",
       "caprice_right        0.032028    0.197115      -0.168339     -0.747048   \n",
       "topic_impression    -0.113293    0.178147      -0.013136      0.024371   \n",
       "topic_news          -0.282736   -0.048485       0.310015     -0.095922   \n",
       "topic_political      0.616828   -0.175224      -0.480981      0.117502   \n",
       "topic_scientific    -0.219369    0.115212       0.134282      0.028242   \n",
       "topic_tourism       -0.221059   -0.008071       0.221644     -0.100901   \n",
       "\n",
       "                  caprice_middle  caprice_right  topic_impression  topic_news  \\\n",
       "Degree_high            -0.322613       0.032028         -0.113293   -0.282736   \n",
       "Degree_low              0.003322       0.197115          0.178147   -0.048485   \n",
       "Degree_medium           0.312967      -0.168339         -0.013136    0.310015   \n",
       "caprice_left           -0.419948      -0.747048          0.024371   -0.095922   \n",
       "caprice_middle          1.000000      -0.289589          0.178147    0.171903   \n",
       "caprice_right          -0.289589       1.000000         -0.156194   -0.024753   \n",
       "topic_impression        0.178147      -0.156194          1.000000   -0.272166   \n",
       "topic_news              0.171903      -0.024753         -0.272166    1.000000   \n",
       "topic_political        -0.296068       0.092943         -0.412360   -0.355395   \n",
       "topic_scientific        0.002259      -0.031440         -0.154172   -0.132875   \n",
       "topic_tourism          -0.008071       0.112328         -0.236067   -0.203456   \n",
       "\n",
       "                  topic_political  topic_scientific  topic_tourism  \n",
       "Degree_high              0.616828         -0.219369      -0.221059  \n",
       "Degree_low              -0.175224          0.115212      -0.008071  \n",
       "Degree_medium           -0.480981          0.134282       0.221644  \n",
       "caprice_left             0.117502          0.028242      -0.100901  \n",
       "caprice_middle          -0.296068          0.002259      -0.008071  \n",
       "caprice_right            0.092943         -0.031440       0.112328  \n",
       "topic_impression        -0.412360         -0.154172      -0.236067  \n",
       "topic_news              -0.355395         -0.132875      -0.203456  \n",
       "topic_political          1.000000         -0.201319      -0.308257  \n",
       "topic_scientific        -0.201319          1.000000      -0.115251  \n",
       "topic_tourism           -0.308257         -0.115251       1.000000  "
      ]
     },
     "execution_count": 16,
     "metadata": {},
     "output_type": "execute_result"
    }
   ],
   "source": [
    "#матрицу корреляций ищем \n",
    "corr = data.corr()\n",
    "corr "
   ]
  },
  {
   "cell_type": "code",
   "execution_count": 16,
   "metadata": {},
   "outputs": [
    {
     "data": {
      "image/png": "[encoded data removed]",
      "text/plain": [
       "<Figure size 432x288 with 2 Axes>"
      ]
     },
     "metadata": {},
     "output_type": "display_data"
    }
   ],
   "source": [
    "import seaborn as sns\n",
    "sns.heatmap(corr, annot=True, fmt=\".1f\");"
   ]
  },
  {
   "cell_type": "markdown",
   "metadata": {},
   "source": [
    "Видим из матрицы, что максимальная корреляция у признаков topic_political и Degree_high (т.е. для ведения\n",
    "политических блогов важно наличие высшего образования), минимальная же со всеми признаками корреляция у \n",
    "признака topic_scientific(т.е. научные темы особо не связаны с другими признаками). Однако в данном случае при удалении\n",
    "признаков результат улучшен не будет, поэтому все признаки остаются. "
   ]
  },
  {
   "cell_type": "code",
   "execution_count": 69,
   "metadata": {},
   "outputs": [
    {
     "data": {
      "image/png": "[encoded data removed]",
      "text/plain": [
       "<Figure size 432x288 with 1 Axes>"
      ]
     },
     "metadata": {},
     "output_type": "display_data"
    }
   ],
   "source": [
    "plt.plot(data['Degree_high'], data['topic_tourism'], 'o', alpha = 0.01);"
   ]
  },
  {
   "cell_type": "code",
   "execution_count": 17,
   "metadata": {},
   "outputs": [
    {
     "name": "stdout",
     "output_type": "stream",
     "text": [
      "(100, 13)\n",
      "(100,)\n"
     ]
    }
   ],
   "source": [
    "# подготовка данных к работе алгоритма KNN, нормализация в данной задаче не требуется. \n",
    "# Нужно отделить столбец, отвечающий за классы(а именно pb), и остальные данные поделить на обучающую и тестовую выборку. \n",
    "Y = data['pb'] \n",
    "X = data.drop(('pb'), axis = 1) \n",
    "print(X.shape) \n",
    "print(Y.shape) "
   ]
  },
  {
   "cell_type": "code",
   "execution_count": 18,
   "metadata": {},
   "outputs": [
    {
     "name": "stdout",
     "output_type": "stream",
     "text": [
      "75 25\n"
     ]
    }
   ],
   "source": [
    "from sklearn.model_selection import train_test_split\n",
    "X_train, X_test, Y_train, Y_test = train_test_split(X, Y, test_size = 0.25, random_state = 42)\n",
    "\n",
    "N_train, _ = X_train.shape \n",
    "N_test,  _ = X_test.shape \n",
    "\n",
    "print(N_train, N_test)"
   ]
  },
  {
   "cell_type": "code",
   "execution_count": 19,
   "metadata": {},
   "outputs": [],
   "source": [
    "#алгоритм K-ближайших соседей. Возьмем количество соседей = 5\n",
    "from sklearn.neighbors import KNeighborsClassifier\n",
    "\n",
    "knn = KNeighborsClassifier(n_neighbors = 10)\n",
    "#knn.set_params(n_neighbors=10)\n"
   ]
  },
  {
   "cell_type": "code",
   "execution_count": 37,
   "metadata": {},
   "outputs": [
    {
     "data": {
      "text/plain": [
       "KNeighborsClassifier(algorithm='auto', leaf_size=30, metric='minkowski',\n",
       "           metric_params=None, n_jobs=1, n_neighbors=10, p=2,\n",
       "           weights='uniform')"
      ]
     },
     "execution_count": 37,
     "metadata": {},
     "output_type": "execute_result"
    }
   ],
   "source": [
    "knn.fit(X_train, Y_train)"
   ]
  },
  {
   "cell_type": "code",
   "execution_count": 38,
   "metadata": {},
   "outputs": [
    {
     "data": {
      "text/plain": [
       "KNeighborsClassifier(algorithm='auto', leaf_size=30, metric='minkowski',\n",
       "           metric_params=None, n_jobs=1, n_neighbors=10, p=2,\n",
       "           weights='uniform')"
      ]
     },
     "execution_count": 38,
     "metadata": {},
     "output_type": "execute_result"
    }
   ],
   "source": [
    "knn"
   ]
  },
  {
   "cell_type": "code",
   "execution_count": 39,
   "metadata": {},
   "outputs": [],
   "source": [
    "Y_train = Y_train.astype(bool)\n",
    "Y_train_predict = knn.predict(X_train)\n",
    "Y_test_predict = knn.predict(X_test)\n",
    "\n",
    "#err_train = np.mean(Y_train != Y_train_predict)\n",
    "#err_test  = np.mean(Y_test  != Y_test_predict)\n",
    "\n",
    "#print(err_train, err_test)"
   ]
  },
  {
   "cell_type": "code",
   "execution_count": 40,
   "metadata": {},
   "outputs": [
    {
     "name": "stdout",
     "output_type": "stream",
     "text": [
      "0.14666666666666667 0.36\n"
     ]
    }
   ],
   "source": [
    "err_train = np.mean(Y_train != Y_train_predict)\n",
    "err_test  = np.mean(Y_test  != Y_test_predict)\n",
    "\n",
    "print(err_train, err_test)"
   ]
  },
  {
   "cell_type": "code",
   "execution_count": 42,
   "metadata": {},
   "outputs": [
    {
     "name": "stdout",
     "output_type": "stream",
     "text": [
      "[[ 2  5]\n",
      " [ 4 14]]\n"
     ]
    }
   ],
   "source": [
    "from sklearn.metrics import confusion_matrix\n",
    "Y_test = Y_test.astype(bool)\n",
    "print(confusion_matrix(Y_test, Y_test_predict))"
   ]
  },
  {
   "cell_type": "code",
   "execution_count": 46,
   "metadata": {},
   "outputs": [
    {
     "name": "stdout",
     "output_type": "stream",
     "text": [
      "0.12 1\n"
     ]
    }
   ],
   "source": [
    "# ПОДБОР ПАРАМЕТРОВ\n",
    "from sklearn.model_selection import GridSearchCV\n",
    "nnb = [1, 2, 3, 5, 7, 9, 13, 17, 19, 21, 25, 27, 29, 30, 33, 35, 39, 45, 50, 55]\n",
    "knn = KNeighborsClassifier()\n",
    "grid = GridSearchCV(knn, param_grid = {'n_neighbors': nnb}, cv=10)\n",
    "grid.fit(X_train, Y_train)\n",
    "\n",
    "best_cv_err = 1 - grid.best_score_\n",
    "best_n_neighbors = grid.best_estimator_.n_neighbors\n",
    "print(best_cv_err, best_n_neighbors)"
   ]
  },
  {
   "cell_type": "code",
   "execution_count": 47,
   "metadata": {},
   "outputs": [
    {
     "name": "stdout",
     "output_type": "stream",
     "text": [
      "0.05333333333333334 0.32\n"
     ]
    }
   ],
   "source": [
    "knn = KNeighborsClassifier(n_neighbors = best_n_neighbors).fit(X_train, Y_train)\n",
    "\n",
    "err_train = np.mean(Y_train != knn.predict(X_train))\n",
    "err_test  = np.mean(Y_test  != knn.predict(X_test))\n",
    "\n",
    "print(err_train, err_test)"
   ]
  },
  {
   "cell_type": "code",
   "execution_count": 64,
   "metadata": {},
   "outputs": [
    {
     "name": "stdout",
     "output_type": "stream",
     "text": [
      "1\n",
      "3\n",
      "5\n",
      "7\n",
      "9\n",
      "11\n",
      "13\n",
      "15\n",
      "17\n",
      "19\n",
      "21\n",
      "23\n",
      "25\n",
      "27\n",
      "29\n",
      "31\n",
      "33\n",
      "35\n",
      "37\n",
      "39\n",
      "41\n",
      "43\n",
      "45\n",
      "47\n",
      "49\n",
      "51\n",
      "53\n"
     ]
    }
   ],
   "source": [
    "k = range(1, 55, 2)\n",
    "list_err_train = []\n",
    "list_err_test = []\n",
    "for i in k:\n",
    "    knn = KNeighborsClassifier(n_neighbors=i)\n",
    "    knn.fit(X_train, Y_train)\n",
    "    list_err_train.append(np.mean(Y_train != knn.predict(X_train)))\n",
    "    list_err_test.append(np.mean(Y_test  != knn.predict(X_test)))\n",
    "    print(i)"
   ]
  },
  {
   "cell_type": "code",
   "execution_count": 65,
   "metadata": {},
   "outputs": [
    {
     "data": {
      "image/png": "[encoded data removed]",
      "text/plain": [
       "<Figure size 432x288 with 1 Axes>"
      ]
     },
     "metadata": {},
     "output_type": "display_data"
    }
   ],
   "source": [
    "plt.plot(k, list_err_test, label='test')\n",
    "plt.plot(k, list_err_train, label='train')\n",
    "plt.xlabel('k')\n",
    "plt.ylabel('error_value')\n",
    "plt.legend(loc='lower right')\n",
    "plt.grid()"
   ]
  },
  {
   "cell_type": "code",
   "execution_count": 48,
   "metadata": {},
   "outputs": [
    {
     "name": "stdout",
     "output_type": "stream",
     "text": [
      "0.13333333333333333 0.32\n"
     ]
    }
   ],
   "source": [
    "# SVC\n",
    "from sklearn.svm import SVC\n",
    "svc = SVC()\n",
    "svc.fit(X_train, Y_train)\n",
    "\n",
    "err_train = np.mean(Y_train != svc.predict(X_train))\n",
    "err_test  = np.mean(Y_test  != svc.predict(X_test))\n",
    "\n",
    "print(err_train, err_test)"
   ]
  },
  {
   "cell_type": "code",
   "execution_count": 49,
   "metadata": {},
   "outputs": [
    {
     "name": "stderr",
     "output_type": "stream",
     "text": [
      "C:\\Users\\kater\\Anaconda3\\lib\\site-packages\\sklearn\\cross_validation.py:41: DeprecationWarning: This module was deprecated in version 0.18 in favor of the model_selection module into which all the refactored classes and functions are moved. Also note that the interface of the new CV iterators are different from that of this module. This module will be removed in 0.20.\n",
      "  \"This module will be removed in 0.20.\", DeprecationWarning)\n",
      "C:\\Users\\kater\\Anaconda3\\lib\\site-packages\\sklearn\\grid_search.py:42: DeprecationWarning: This module was deprecated in version 0.18 in favor of the model_selection module into which all the refactored classes and functions are moved. This module will be removed in 0.20.\n",
      "  DeprecationWarning)\n"
     ]
    },
    {
     "name": "stdout",
     "output_type": "stream",
     "text": [
      "0.09333333333333338 1000.0\n"
     ]
    }
   ],
   "source": [
    "# Подбор параметров\n",
    "from sklearn.grid_search import GridSearchCV\n",
    "Cs = 10.**np.arange(-6, 6)\n",
    "gamma_array = 10.**np.arange(-6, 6)\n",
    "svc = SVC()\n",
    "grid = GridSearchCV(svc, param_grid = {'C': Cs, 'gamma': gamma_array})\n",
    "grid.fit(X_train, Y_train)\n",
    "\n",
    "best_cv_err = 1 - grid.best_score_\n",
    "best_C = grid.best_estimator_.C\n",
    "print(best_cv_err, best_C)"
   ]
  },
  {
   "cell_type": "code",
   "execution_count": 50,
   "metadata": {},
   "outputs": [
    {
     "name": "stdout",
     "output_type": "stream",
     "text": [
      "0.05333333333333334 0.32\n"
     ]
    }
   ],
   "source": [
    "svc = SVC(C = best_C).fit(X_train, Y_train)\n",
    "\n",
    "err_train = np.mean(Y_train != knn.predict(X_train))\n",
    "err_test  = np.mean(Y_test  != knn.predict(X_test))\n",
    "\n",
    "print(err_train, err_test)"
   ]
  },
  {
   "cell_type": "code",
   "execution_count": 51,
   "metadata": {},
   "outputs": [
    {
     "name": "stdout",
     "output_type": "stream",
     "text": [
      "0.05333333333333334 0.36\n"
     ]
    }
   ],
   "source": [
    "# Random Forest\n",
    "from sklearn import ensemble\n",
    "rf = ensemble.RandomForestClassifier(n_estimators = 1000)\n",
    "rf.fit(X_train, Y_train)\n",
    "\n",
    "err_train = np.mean(Y_train != rf.predict(X_train))\n",
    "err_test  = np.mean(Y_test  != rf.predict(X_test))\n",
    "\n",
    "print(err_train, err_test)"
   ]
  },
  {
   "cell_type": "code",
   "execution_count": 52,
   "metadata": {},
   "outputs": [
    {
     "name": "stdout",
     "output_type": "stream",
     "text": [
      "Feature ranking:\n",
      " 1. feature 'caprice_right' (0.149247)\n",
      " 2. feature 'Degree_low' (0.140795)\n",
      " 3. feature 'caprice_left' (0.117886)\n",
      " 4. feature ' lpss' (0.109519)\n",
      " 5. feature 'topic_scientific' (0.092964)\n",
      " 6. feature '  lmt' (0.062125)\n",
      " 7. feature 'Degree_medium' (0.060028)\n",
      " 8. feature 'topic_political' (0.053964)\n",
      " 9. feature 'Degree_high' (0.051037)\n",
      "10. feature 'topic_tourism' (0.043221)\n",
      "11. feature 'caprice_middle' (0.041154)\n",
      "12. feature 'topic_news' (0.039626)\n",
      "13. feature 'topic_impression' (0.038435)\n"
     ]
    }
   ],
   "source": [
    "# Значимость признаков\n",
    "importances = rf.feature_importances_\n",
    "indices = np.argsort(importances)[::-1]\n",
    "\n",
    "print(\"Feature ranking:\")\n",
    "\n",
    "N, d = X_train.shape\n",
    "feature_names = X.columns\n",
    "for f in range(d):\n",
    "    print(\"%2d. feature '%5s' (%f)\" % (f + 1, feature_names[indices[f]], importances[indices[f]]))"
   ]
  },
  {
   "cell_type": "code",
   "execution_count": 53,
   "metadata": {},
   "outputs": [
    {
     "data": {
      "text/plain": [
       "Index(['Degree_low', 'Degree_high', 'Degree_low'], dtype='object')"
      ]
     },
     "execution_count": 53,
     "metadata": {},
     "output_type": "execute_result"
    }
   ],
   "source": [
    "feature_names[[1,0,1]]"
   ]
  },
  {
   "cell_type": "code",
   "execution_count": 57,
   "metadata": {},
   "outputs": [
    {
     "data": {
      "text/plain": [
       "(-1, 13)"
      ]
     },
     "execution_count": 57,
     "metadata": {},
     "output_type": "execute_result"
    },
    {
     "data": {
      "image/png": "[encoded data removed]",
      "text/plain": [
       "<Figure size 432x288 with 1 Axes>"
      ]
     },
     "metadata": {},
     "output_type": "display_data"
    }
   ],
   "source": [
    "d_first = 13\n",
    "plt.title(\"Feature importances\")\n",
    "plt.bar(range(d_first), importances[indices[:d_first]], align = 'center', color = 'r')\n",
    "plt.xticks(range(d_first), feature_names[indices[:d_first]], rotation = 90)\n",
    "plt.xlim([-1, d_first])"
   ]
  },
  {
   "cell_type": "code",
   "execution_count": 58,
   "metadata": {},
   "outputs": [
    {
     "name": "stdout",
     "output_type": "stream",
     "text": [
      "0.05333333333333334 0.36\n"
     ]
    }
   ],
   "source": [
    "# Extremely Randomized Trees\n",
    "ert = ensemble.ExtraTreesClassifier(n_estimators = 100).fit(X_train, Y_train)\n",
    "\n",
    "err_train = np.mean(Y_train != ert.predict(X_train))\n",
    "err_test  = np.mean(Y_test  != ert.predict(X_test))\n",
    "\n",
    "print(err_train, err_test)"
   ]
  },
  {
   "cell_type": "code",
   "execution_count": 59,
   "metadata": {},
   "outputs": [
    {
     "name": "stdout",
     "output_type": "stream",
     "text": [
      "0.10666666666666667 0.4\n"
     ]
    }
   ],
   "source": [
    "# AdaBoost\n",
    "ada = ensemble.AdaBoostClassifier(n_estimators = 1000)\n",
    "ada.fit(X_train, Y_train)\n",
    "\n",
    "err_train = np.mean(Y_train != ada.predict(X_train))\n",
    "err_test = np.mean(Y_test != ada.predict(X_test))\n",
    "\n",
    "print(err_train, err_test)"
   ]
  },
  {
   "cell_type": "code",
   "execution_count": 60,
   "metadata": {},
   "outputs": [
    {
     "name": "stdout",
     "output_type": "stream",
     "text": [
      "0.05333333333333334 0.24\n"
     ]
    }
   ],
   "source": [
    "# GBT\n",
    "gbt = ensemble.GradientBoostingClassifier(n_estimators = 1000)\n",
    "gbt.fit(X_train, Y_train)\n",
    "\n",
    "err_train = np.mean(Y_train != gbt.predict(X_train))\n",
    "err_test = np.mean(Y_test != gbt.predict(X_test))\n",
    "\n",
    "print(err_train, err_test)"
   ]
  },
  {
   "cell_type": "markdown",
   "metadata": {},
   "source": [
    "ВЫВОДЫ\n",
    "\n",
    "Для объективности выводов следует провести кросс-валидацию (при использовании cross_validation). В целом, БД небольшая (всего 100 строк), поэтому и результаты классификации не очень эффективны (на тестовой выборке ошибочно определяются от 24 до 40 процентов блогеров). И все же лучший результат показала модель GBT, а худший AdaBoost. Остальные модели имели примерно одинаковые показатели.\n",
    "\n",
    "Определенно, высокая ошибка объясняется малым количеством данных."
   ]
  },
  {
   "cell_type": "code",
   "execution_count": null,
   "metadata": {},
   "outputs": [],
   "source": []
  }
 ],
 "metadata": {
  "kernelspec": {
   "display_name": "Python 3",
   "language": "python",
   "name": "python3"
  },
  "language_info": {
   "codemirror_mode": {
    "name": "ipython",
    "version": 3
   },
   "file_extension": ".py",
   "mimetype": "text/x-python",
   "name": "python",
   "nbconvert_exporter": "python",
   "pygments_lexer": "ipython3",
   "version": "3.6.5"
  }
 },
 "nbformat": 4,
 "nbformat_minor": 2
}
